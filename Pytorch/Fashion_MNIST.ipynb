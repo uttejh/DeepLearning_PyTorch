{
  "nbformat": 4,
  "nbformat_minor": 0,
  "metadata": {
    "colab": {
      "name": "Fashion-MNIST.ipynb",
      "version": "0.3.2",
      "provenance": [],
      "collapsed_sections": []
    },
    "kernelspec": {
      "name": "python3",
      "display_name": "Python 3"
    }
  },
  "cells": [
    {
      "cell_type": "code",
      "metadata": {
        "id": "t79b7Sn7YYub",
        "colab_type": "code",
        "colab": {}
      },
      "source": [
        "import torch\n",
        "from torchvision import transforms, datasets"
      ],
      "execution_count": 0,
      "outputs": []
    },
    {
      "cell_type": "markdown",
      "metadata": {
        "id": "fcS3vLomrok4",
        "colab_type": "text"
      },
      "source": [
        "# Get data"
      ]
    },
    {
      "cell_type": "code",
      "metadata": {
        "id": "LixTOVbwnwAJ",
        "colab_type": "code",
        "colab": {}
      },
      "source": [
        "# create a transform to normalize data\n",
        "transform = transforms.Compose([transforms.ToTensor(),\n",
        "                               transforms.Normalize((0.5,),(0.5,))])"
      ],
      "execution_count": 0,
      "outputs": []
    },
    {
      "cell_type": "code",
      "metadata": {
        "id": "CmqWy2vVn4rm",
        "colab_type": "code",
        "outputId": "cab35a03-fd94-4010-d9b6-cff2b0025189",
        "colab": {
          "base_uri": "https://localhost:8080/",
          "height": 275
        }
      },
      "source": [
        "# Download train dataset\n",
        "trainset = datasets.FashionMNIST(\"~/.pytorch/F_MNIST_data/\", download=True, transform=transform, train=True)\n",
        "# load data\n",
        "trainloader = torch.utils.data.DataLoader(trainset, shuffle=True, batch_size=64)\n",
        "\n",
        "# Download test dataset\n",
        "testset = datasets.FashionMNIST(\"~/.pytorch/F_MNIST_data/\", download=True, train=False, transform=transform)\n",
        "# load data\n",
        "testloader = torch.utils.data.DataLoader(testset, shuffle=True, batch_size=64)"
      ],
      "execution_count": 3,
      "outputs": [
        {
          "output_type": "stream",
          "text": [
            "\r0it [00:00, ?it/s]"
          ],
          "name": "stderr"
        },
        {
          "output_type": "stream",
          "text": [
            "Downloading http://fashion-mnist.s3-website.eu-central-1.amazonaws.com/train-images-idx3-ubyte.gz to /root/.pytorch/F_MNIST_data/FashionMNIST/raw/train-images-idx3-ubyte.gz\n"
          ],
          "name": "stdout"
        },
        {
          "output_type": "stream",
          "text": [
            "26427392it [00:01, 14379654.37it/s]                              \n"
          ],
          "name": "stderr"
        },
        {
          "output_type": "stream",
          "text": [
            "Extracting /root/.pytorch/F_MNIST_data/FashionMNIST/raw/train-images-idx3-ubyte.gz\n"
          ],
          "name": "stdout"
        },
        {
          "output_type": "stream",
          "text": [
            "\r0it [00:00, ?it/s]"
          ],
          "name": "stderr"
        },
        {
          "output_type": "stream",
          "text": [
            "Downloading http://fashion-mnist.s3-website.eu-central-1.amazonaws.com/train-labels-idx1-ubyte.gz to /root/.pytorch/F_MNIST_data/FashionMNIST/raw/train-labels-idx1-ubyte.gz\n"
          ],
          "name": "stdout"
        },
        {
          "output_type": "stream",
          "text": [
            "32768it [00:00, 98898.29it/s]                            \n",
            "0it [00:00, ?it/s]"
          ],
          "name": "stderr"
        },
        {
          "output_type": "stream",
          "text": [
            "Extracting /root/.pytorch/F_MNIST_data/FashionMNIST/raw/train-labels-idx1-ubyte.gz\n",
            "Downloading http://fashion-mnist.s3-website.eu-central-1.amazonaws.com/t10k-images-idx3-ubyte.gz to /root/.pytorch/F_MNIST_data/FashionMNIST/raw/t10k-images-idx3-ubyte.gz\n"
          ],
          "name": "stdout"
        },
        {
          "output_type": "stream",
          "text": [
            "4423680it [00:01, 4368333.05it/s]                            \n",
            "0it [00:00, ?it/s]"
          ],
          "name": "stderr"
        },
        {
          "output_type": "stream",
          "text": [
            "Extracting /root/.pytorch/F_MNIST_data/FashionMNIST/raw/t10k-images-idx3-ubyte.gz\n",
            "Downloading http://fashion-mnist.s3-website.eu-central-1.amazonaws.com/t10k-labels-idx1-ubyte.gz to /root/.pytorch/F_MNIST_data/FashionMNIST/raw/t10k-labels-idx1-ubyte.gz\n"
          ],
          "name": "stdout"
        },
        {
          "output_type": "stream",
          "text": [
            "8192it [00:00, 36266.41it/s]            "
          ],
          "name": "stderr"
        },
        {
          "output_type": "stream",
          "text": [
            "Extracting /root/.pytorch/F_MNIST_data/FashionMNIST/raw/t10k-labels-idx1-ubyte.gz\n",
            "Processing...\n",
            "Done!\n"
          ],
          "name": "stdout"
        },
        {
          "output_type": "stream",
          "text": [
            "\n"
          ],
          "name": "stderr"
        }
      ]
    },
    {
      "cell_type": "markdown",
      "metadata": {
        "id": "mVWYT_iYrs6r",
        "colab_type": "text"
      },
      "source": [
        "# Create a Network"
      ]
    },
    {
      "cell_type": "code",
      "metadata": {
        "id": "Qu5QgIjor_Sv",
        "colab_type": "code",
        "colab": {}
      },
      "source": [
        "from torch import nn, optim\n",
        "import torch.nn.functional as F"
      ],
      "execution_count": 0,
      "outputs": []
    },
    {
      "cell_type": "markdown",
      "metadata": {
        "id": "DtOiQ7GfvmcG",
        "colab_type": "text"
      },
      "source": [
        "Using logits at the output rather than softmax probabilities. This avoids the problem of Floating-point operation [read here](https://docs.python.org/3/tutorial/floatingpoint.html). Softmax gives you probabilities which will often be very close to zero or one but floating-point numbers can't accurately represent values near zero or one. So we use log-probabilities"
      ]
    },
    {
      "cell_type": "code",
      "metadata": {
        "id": "d9hhLeNLrZQy",
        "colab_type": "code",
        "colab": {}
      },
      "source": [
        "class Classifier(nn.Module):\n",
        "  def __init__(self):\n",
        "    super().__init__()\n",
        "    \n",
        "    # create the network's structure\n",
        "    self.input = nn.Linear(784, 256)\n",
        "    self.hidden1 = nn.Linear(256, 128)\n",
        "    self.hidden2 = nn.Linear(128, 64)\n",
        "    self.output = nn.Linear(64, 10)\n",
        "    \n",
        "  # Forward Pass  \n",
        "  def forward(self, x):\n",
        "    x = x.view(x.shape[0], -1)\n",
        "    \n",
        "    x = F.relu(self.input(x))\n",
        "    x = F.relu(self.hidden1(x))\n",
        "    x = F.relu(self.hidden2(x))\n",
        "    x = F.log_softmax(self.output(x), dim=1)\n",
        "    \n",
        "    return x"
      ],
      "execution_count": 0,
      "outputs": []
    },
    {
      "cell_type": "markdown",
      "metadata": {
        "id": "IcOuhHV8wtlO",
        "colab_type": "text"
      },
      "source": [
        "# Train"
      ]
    },
    {
      "cell_type": "code",
      "metadata": {
        "id": "I7Luk0Ywu3z7",
        "colab_type": "code",
        "outputId": "fa86215b-e28b-4fad-c027-e69e953280d3",
        "colab": {
          "base_uri": "https://localhost:8080/",
          "height": 119
        }
      },
      "source": [
        "model = Classifier()\n",
        "model"
      ],
      "execution_count": 16,
      "outputs": [
        {
          "output_type": "execute_result",
          "data": {
            "text/plain": [
              "Classifier(\n",
              "  (input): Linear(in_features=784, out_features=256, bias=True)\n",
              "  (hidden1): Linear(in_features=256, out_features=128, bias=True)\n",
              "  (hidden2): Linear(in_features=128, out_features=64, bias=True)\n",
              "  (output): Linear(in_features=64, out_features=10, bias=True)\n",
              ")"
            ]
          },
          "metadata": {
            "tags": []
          },
          "execution_count": 16
        }
      ]
    },
    {
      "cell_type": "code",
      "metadata": {
        "id": "qG__QmTXw0bt",
        "colab_type": "code",
        "colab": {}
      },
      "source": [
        "# criterion and optimizer\n",
        "criterion = nn.NLLLoss()\n",
        "optimizer = optim.Adam(model.parameters(), lr=0.003)"
      ],
      "execution_count": 0,
      "outputs": []
    },
    {
      "cell_type": "code",
      "metadata": {
        "id": "w4ANgb6cFWAe",
        "colab_type": "code",
        "colab": {
          "base_uri": "https://localhost:8080/",
          "height": 102
        },
        "outputId": "ce392421-da18-4ea6-8148-7b36c687b13e"
      },
      "source": [
        "# train the network\n",
        "epochs = 5\n",
        "\n",
        "for e in range(epochs):\n",
        "  running_loss = 0\n",
        "  for images, labels in trainloader:\n",
        "    # log probabilities\n",
        "    log_ps = model(images)\n",
        "    \n",
        "    # loss \n",
        "    loss = criterion(log_ps, labels)\n",
        "    \n",
        "    # backprop\n",
        "    # reset gradients\n",
        "    optimizer.zero_grad()\n",
        "    \n",
        "    # gradient calculation\n",
        "    loss.backward()\n",
        "    \n",
        "    # update weights\n",
        "    optimizer.step()\n",
        "    \n",
        "    # update loss\n",
        "    running_loss += loss.item()\n",
        "  else:\n",
        "        print(f\"Training loss: {running_loss/len(trainloader)}\")"
      ],
      "execution_count": 18,
      "outputs": [
        {
          "output_type": "stream",
          "text": [
            "Training loss: 0.5123320291164333\n",
            "Training loss: 0.3936532046209012\n",
            "Training loss: 0.3557828684796148\n",
            "Training loss: 0.33126578579293386\n",
            "Training loss: 0.31604704980466414\n"
          ],
          "name": "stdout"
        }
      ]
    },
    {
      "cell_type": "markdown",
      "metadata": {
        "id": "DtNhPbjPIH5g",
        "colab_type": "text"
      },
      "source": [
        "# Test"
      ]
    },
    {
      "cell_type": "code",
      "metadata": {
        "id": "tO5_S7H_Hjiy",
        "colab_type": "code",
        "colab": {}
      },
      "source": [
        "# grab data\n",
        "dataiter = iter(testloader)\n",
        "images, labels = dataiter.next()\n",
        "\n",
        "# select an image\n",
        "img = images[1]\n",
        "label = labels[1]\n",
        "\n",
        "# predict\n",
        "output_ps = torch.exp(model(img))"
      ],
      "execution_count": 0,
      "outputs": []
    },
    {
      "cell_type": "code",
      "metadata": {
        "id": "RcS0c4aiHj8z",
        "colab_type": "code",
        "colab": {}
      },
      "source": [
        "%matplotlib inline\n",
        "import matplotlib.pyplot as plt\n",
        "import numpy as np\n",
        "\n",
        "def view_classify(img, ps):\n",
        "  with torch.no_grad():\n",
        "    image = img.resize_(1, 28, 28).numpy().squeeze()\n",
        "    ps = ps.data.numpy().squeeze()\n",
        "    \n",
        "    fig = plt.figure()\n",
        "    ax1 = fig.add_subplot(1, 2, 1)\n",
        "    ax2 = fig.add_subplot(1, 2, 2)\n",
        "\n",
        "    ax1.imshow(image)\n",
        "\n",
        "    ax2.barh(np.arange(10), ps)\n",
        "    ax2.set_aspect(0.1)\n",
        "    ax2.set_yticks(np.arange(10))\n",
        "    ax2.set_yticklabels(['T-shirt/top',\n",
        "                              'Trouser',\n",
        "                              'Pullover',\n",
        "                              'Dress',\n",
        "                              'Coat',\n",
        "                              'Sandal',\n",
        "                              'Shirt',\n",
        "                              'Sneaker',\n",
        "                              'Bag',\n",
        "                              'Ankle Boot'], size='small');\n",
        "    ax2.set_title('Class Probability')\n",
        "    ax2.set_xlim(0, 1.1)\n",
        "    plt.show()"
      ],
      "execution_count": 0,
      "outputs": []
    },
    {
      "cell_type": "code",
      "metadata": {
        "id": "dRyK9uP8IxRO",
        "colab_type": "code",
        "colab": {
          "base_uri": "https://localhost:8080/",
          "height": 215
        },
        "outputId": "69a1661b-0684-4abd-f336-cf18be5a459c"
      },
      "source": [
        "view_classify(img, output_ps)"
      ],
      "execution_count": 54,
      "outputs": [
        {
          "output_type": "display_data",
          "data": {
            "image/png": "[encoded data removed]",
            "text/plain": [
              "<Figure size 432x288 with 2 Axes>"
            ]
          },
          "metadata": {
            "tags": []
          }
        }
      ]
    },
    {
      "cell_type": "code",
      "metadata": {
        "id": "4B3_o6yaK6WP",
        "colab_type": "code",
        "colab": {}
      },
      "source": [
        ""
      ],
      "execution_count": 0,
      "outputs": []
    }
  ]
}