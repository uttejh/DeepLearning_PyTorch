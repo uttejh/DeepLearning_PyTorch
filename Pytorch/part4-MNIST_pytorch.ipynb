{
  "nbformat": 4,
  "nbformat_minor": 0,
  "metadata": {
    "colab": {
      "name": "MNIST_torch.ipynb",
      "version": "0.3.2",
      "provenance": [],
      "collapsed_sections": []
    },
    "kernelspec": {
      "name": "python3",
      "display_name": "Python 3"
    }
  },
  "cells": [
    {
      "cell_type": "code",
      "metadata": {
        "id": "qr6eGyrUOWkm",
        "colab_type": "code",
        "outputId": "5b3c659c-bd40-4fc1-d8c6-8c5141123ae0",
        "colab": {
          "base_uri": "https://localhost:8080/",
          "height": 632
        }
      },
      "source": [
        "import torch\n",
        "from torch import nn\n",
        "import torch.nn.functional as F\n",
        "\n",
        "from torchvision import datasets, transforms\n",
        "\n",
        "# Define a transform to normalize the data\n",
        "transform = transforms.Compose([transforms.ToTensor(),\n",
        "                               transforms.Normalize((0.5,), (0.5,)),\n",
        "                               ])\n",
        "\n",
        "# Download and load MNIST data\n",
        "trainset = datasets.MNIST(\"~/.pytorch/MNIST_data/\", download=True, train=True, transform = transform)\n",
        "\n",
        "trainloader = torch.utils.data.DataLoader(trainset, batch_size=64, shuffle=True)"
      ],
      "execution_count": 1,
      "outputs": [
        {
          "output_type": "stream",
          "text": [
            "\r0it [00:00, ?it/s]"
          ],
          "name": "stderr"
        },
        {
          "output_type": "stream",
          "text": [
            "Downloading http://yann.lecun.com/exdb/mnist/train-images-idx3-ubyte.gz to /root/.pytorch/MNIST_data/MNIST/raw/train-images-idx3-ubyte.gz\n"
          ],
          "name": "stdout"
        },
        {
          "output_type": "stream",
          "text": [
            "100%|█████████▉| 9912320/9912422 [00:16<00:00, 443459.55it/s]"
          ],
          "name": "stderr"
        },
        {
          "output_type": "stream",
          "text": [
            "Extracting /root/.pytorch/MNIST_data/MNIST/raw/train-images-idx3-ubyte.gz\n"
          ],
          "name": "stdout"
        },
        {
          "output_type": "stream",
          "text": [
            "\n",
            "0it [00:00, ?it/s]\u001b[A\n",
            "  0%|          | 0/28881 [00:00<?, ?it/s]\u001b[A"
          ],
          "name": "stderr"
        },
        {
          "output_type": "stream",
          "text": [
            "Downloading http://yann.lecun.com/exdb/mnist/train-labels-idx1-ubyte.gz to /root/.pytorch/MNIST_data/MNIST/raw/train-labels-idx1-ubyte.gz\n"
          ],
          "name": "stdout"
        },
        {
          "output_type": "stream",
          "text": [
            "\n",
            "32768it [00:00, 138878.29it/s]           \u001b[A\n",
            "0it [00:00, ?it/s]\u001b[A\n",
            "  0%|          | 0/1648877 [00:00<?, ?it/s]\u001b[A"
          ],
          "name": "stderr"
        },
        {
          "output_type": "stream",
          "text": [
            "Extracting /root/.pytorch/MNIST_data/MNIST/raw/train-labels-idx1-ubyte.gz\n",
            "Downloading http://yann.lecun.com/exdb/mnist/t10k-images-idx3-ubyte.gz to /root/.pytorch/MNIST_data/MNIST/raw/t10k-images-idx3-ubyte.gz\n"
          ],
          "name": "stdout"
        },
        {
          "output_type": "stream",
          "text": [
            "\n",
            "  1%|          | 16384/1648877 [00:00<00:10, 158217.68it/s]\u001b[A\n",
            "  4%|▍         | 65536/1648877 [00:00<00:08, 188415.63it/s]\u001b[A\n",
            "  7%|▋         | 122880/1648877 [00:00<00:06, 223551.03it/s]\u001b[A\n",
            " 11%|█         | 180224/1648877 [00:00<00:05, 256871.05it/s]\u001b[A\n",
            " 15%|█▍        | 245760/1648877 [00:00<00:04, 294992.04it/s]\u001b[A\n",
            " 19%|█▉        | 311296/1648877 [00:00<00:04, 329416.56it/s]\u001b[A\n",
            " 24%|██▍       | 393216/1648877 [00:01<00:03, 376981.50it/s]\u001b[A\n",
            " 29%|██▉       | 475136/1648877 [00:01<00:02, 419368.95it/s]\u001b[A\n",
            " 34%|███▍      | 565248/1648877 [00:01<00:02, 464423.64it/s]\u001b[A\n",
            " 41%|████      | 671744/1648877 [00:01<00:01, 522739.20it/s]\u001b[A\n",
            " 48%|████▊     | 786432/1648877 [00:01<00:01, 582730.07it/s]\u001b[A\n",
            " 55%|█████▌    | 909312/1648877 [00:01<00:01, 644652.47it/s]\u001b[A\n",
            " 64%|██████▎   | 1048576/1648877 [00:02<00:00, 716799.87it/s]\u001b[A\n",
            " 73%|███████▎  | 1196032/1648877 [00:02<00:00, 784807.77it/s]\u001b[A\n",
            " 83%|████████▎ | 1368064/1648877 [00:02<00:00, 875399.91it/s]\u001b[A\n",
            " 94%|█████████▍| 1548288/1648877 [00:02<00:00, 963075.51it/s]\u001b[A\n",
            "1654784it [00:02, 658955.65it/s]                             \u001b[A\n",
            "0it [00:00, ?it/s]\u001b[A"
          ],
          "name": "stderr"
        },
        {
          "output_type": "stream",
          "text": [
            "Extracting /root/.pytorch/MNIST_data/MNIST/raw/t10k-images-idx3-ubyte.gz\n",
            "Downloading http://yann.lecun.com/exdb/mnist/t10k-labels-idx1-ubyte.gz to /root/.pytorch/MNIST_data/MNIST/raw/t10k-labels-idx1-ubyte.gz\n"
          ],
          "name": "stdout"
        },
        {
          "output_type": "stream",
          "text": [
            "\n",
            "  0%|          | 0/4542 [00:00<?, ?it/s]\u001b[A\n",
            "8192it [00:00, 53368.63it/s]            \u001b[A"
          ],
          "name": "stderr"
        },
        {
          "output_type": "stream",
          "text": [
            "Extracting /root/.pytorch/MNIST_data/MNIST/raw/t10k-labels-idx1-ubyte.gz\n",
            "Processing...\n",
            "Done!\n"
          ],
          "name": "stdout"
        }
      ]
    },
    {
      "cell_type": "code",
      "metadata": {
        "id": "4CVcocUFsUIz",
        "colab_type": "code",
        "colab": {}
      },
      "source": [
        "# Sequential model\n",
        "model = nn.Sequential(nn.Linear(784, 128),\n",
        "                      nn.ReLU(),\n",
        "                      nn.Linear(128, 64),\n",
        "                      nn.ReLU(),\n",
        "                      nn.Linear(64, 10))\n",
        "\n",
        "\n",
        "#loss\n",
        "criterion = nn.CrossEntropyLoss()"
      ],
      "execution_count": 0,
      "outputs": []
    },
    {
      "cell_type": "code",
      "metadata": {
        "id": "hZOpWfEZuI4_",
        "colab_type": "code",
        "outputId": "a83b89c6-2336-4f6f-c82c-78ea0275c553",
        "colab": {
          "base_uri": "https://localhost:8080/",
          "height": 51
        }
      },
      "source": [
        "# Get data\n",
        "images, labels = next(iter(trainloader))\n",
        "print(images.shape)\n",
        "# Reshape\n",
        "images = images.view(images.shape[0], -1)\n",
        "print(images.shape)"
      ],
      "execution_count": 3,
      "outputs": [
        {
          "output_type": "stream",
          "text": [
            "torch.Size([64, 1, 28, 28])\n",
            "torch.Size([64, 784])\n"
          ],
          "name": "stdout"
        }
      ]
    },
    {
      "cell_type": "code",
      "metadata": {
        "id": "R76eN1rquKC2",
        "colab_type": "code",
        "colab": {}
      },
      "source": [
        "# Forward-pass\n",
        "logits = model(images)\n",
        "\n",
        "# calculate loss\n",
        "loss = criterion(logits, labels)"
      ],
      "execution_count": 0,
      "outputs": []
    },
    {
      "cell_type": "code",
      "metadata": {
        "id": "MCa5f0ZmwQ1M",
        "colab_type": "code",
        "outputId": "655607ce-13d4-4936-cb71-2ab7ae4f38fd",
        "colab": {
          "base_uri": "https://localhost:8080/",
          "height": 34
        }
      },
      "source": [
        "loss"
      ],
      "execution_count": 5,
      "outputs": [
        {
          "output_type": "execute_result",
          "data": {
            "text/plain": [
              "tensor(2.3046, grad_fn=<NllLossBackward>)"
            ]
          },
          "metadata": {
            "tags": []
          },
          "execution_count": 5
        }
      ]
    },
    {
      "cell_type": "markdown",
      "metadata": {
        "id": "-SG_-tMoz3NU",
        "colab_type": "text"
      },
      "source": [
        "# AutoGrad\n"
      ]
    },
    {
      "cell_type": "code",
      "metadata": {
        "id": "ZHF0hwo0wRcm",
        "colab_type": "code",
        "outputId": "c6d5d379-ef73-412f-aff8-6320d130b177",
        "colab": {
          "base_uri": "https://localhost:8080/",
          "height": 51
        }
      },
      "source": [
        "x = torch.randn(2,2, requires_grad=True)\n",
        "print(x)"
      ],
      "execution_count": 6,
      "outputs": [
        {
          "output_type": "stream",
          "text": [
            "tensor([[ 1.9066,  0.0620],\n",
            "        [ 1.2417, -0.6656]], requires_grad=True)\n"
          ],
          "name": "stdout"
        }
      ]
    },
    {
      "cell_type": "code",
      "metadata": {
        "id": "lQs7jcHYz6My",
        "colab_type": "code",
        "outputId": "319905a6-bddc-40b3-c084-ee2fd205b3d3",
        "colab": {
          "base_uri": "https://localhost:8080/",
          "height": 51
        }
      },
      "source": [
        "y = x**2\n",
        "print(y)"
      ],
      "execution_count": 7,
      "outputs": [
        {
          "output_type": "stream",
          "text": [
            "tensor([[3.6351, 0.0038],\n",
            "        [1.5418, 0.4431]], grad_fn=<PowBackward0>)\n"
          ],
          "name": "stdout"
        }
      ]
    },
    {
      "cell_type": "code",
      "metadata": {
        "id": "LY-1gZX60zIp",
        "colab_type": "code",
        "outputId": "0b2d5012-52a0-4bf0-f3ed-b25b5420c6f2",
        "colab": {
          "base_uri": "https://localhost:8080/",
          "height": 34
        }
      },
      "source": [
        "print(y.grad_fn)"
      ],
      "execution_count": 8,
      "outputs": [
        {
          "output_type": "stream",
          "text": [
            "<PowBackward0 object at 0x7f8a99550c50>\n"
          ],
          "name": "stdout"
        }
      ]
    },
    {
      "cell_type": "code",
      "metadata": {
        "id": "jIuoIyh-02wa",
        "colab_type": "code",
        "outputId": "73ce7d69-6939-431d-929a-e7667c06dcd6",
        "colab": {
          "base_uri": "https://localhost:8080/",
          "height": 34
        }
      },
      "source": [
        "z = y.mean()\n",
        "print(z)"
      ],
      "execution_count": 9,
      "outputs": [
        {
          "output_type": "stream",
          "text": [
            "tensor(1.4060, grad_fn=<MeanBackward0>)\n"
          ],
          "name": "stdout"
        }
      ]
    },
    {
      "cell_type": "code",
      "metadata": {
        "id": "98hCz-qv1Aqk",
        "colab_type": "code",
        "outputId": "2e47236c-a8e4-4ff0-c067-f13462cf5377",
        "colab": {
          "base_uri": "https://localhost:8080/",
          "height": 51
        }
      },
      "source": [
        "y"
      ],
      "execution_count": 10,
      "outputs": [
        {
          "output_type": "execute_result",
          "data": {
            "text/plain": [
              "tensor([[3.6351, 0.0038],\n",
              "        [1.5418, 0.4431]], grad_fn=<PowBackward0>)"
            ]
          },
          "metadata": {
            "tags": []
          },
          "execution_count": 10
        }
      ]
    },
    {
      "cell_type": "code",
      "metadata": {
        "id": "P5IHAKFY1LSF",
        "colab_type": "code",
        "outputId": "af10006c-aa38-419a-ce56-0a12fcdf8b9c",
        "colab": {
          "base_uri": "https://localhost:8080/",
          "height": 85
        }
      },
      "source": [
        "z.backward()\n",
        "print(x.grad)\n",
        "print(x/2)"
      ],
      "execution_count": 11,
      "outputs": [
        {
          "output_type": "stream",
          "text": [
            "tensor([[ 0.9533,  0.0310],\n",
            "        [ 0.6209, -0.3328]])\n",
            "tensor([[ 0.9533,  0.0310],\n",
            "        [ 0.6209, -0.3328]], grad_fn=<DivBackward0>)\n"
          ],
          "name": "stdout"
        }
      ]
    },
    {
      "cell_type": "markdown",
      "metadata": {
        "id": "aLiIi8hO3qb7",
        "colab_type": "text"
      },
      "source": [
        "# Loss and Autograd"
      ]
    },
    {
      "cell_type": "code",
      "metadata": {
        "id": "bdMt7bdO1yAC",
        "colab_type": "code",
        "outputId": "a5a8b4a5-33b5-4f89-de68-1adc35577596",
        "colab": {
          "base_uri": "https://localhost:8080/",
          "height": 289
        }
      },
      "source": [
        "print('Before backward pass: \\n', model[0].weight.grad)\n",
        "\n",
        "loss.backward()\n",
        "\n",
        "print('After backward pass: \\n', model[0].weight.grad)"
      ],
      "execution_count": 12,
      "outputs": [
        {
          "output_type": "stream",
          "text": [
            "Before backward pass: \n",
            " None\n",
            "After backward pass: \n",
            " tensor([[ 6.0551e-04,  6.0551e-04,  6.0551e-04,  ...,  6.0551e-04,\n",
            "          6.0551e-04,  6.0551e-04],\n",
            "        [-1.8962e-03, -1.8962e-03, -1.8962e-03,  ..., -1.8962e-03,\n",
            "         -1.8962e-03, -1.8962e-03],\n",
            "        [-1.5076e-05, -1.5076e-05, -1.5076e-05,  ..., -1.5076e-05,\n",
            "         -1.5076e-05, -1.5076e-05],\n",
            "        ...,\n",
            "        [-3.8099e-03, -3.8099e-03, -3.8099e-03,  ..., -3.8099e-03,\n",
            "         -3.8099e-03, -3.8099e-03],\n",
            "        [ 1.9478e-03,  1.9478e-03,  1.9478e-03,  ...,  1.9478e-03,\n",
            "          1.9478e-03,  1.9478e-03],\n",
            "        [-5.5266e-03, -5.5266e-03, -5.5266e-03,  ..., -5.5266e-03,\n",
            "         -5.5266e-03, -5.5266e-03]])\n"
          ],
          "name": "stdout"
        }
      ]
    },
    {
      "cell_type": "markdown",
      "metadata": {
        "id": "tc0i8guP38pX",
        "colab_type": "text"
      },
      "source": [
        "# Training"
      ]
    },
    {
      "cell_type": "code",
      "metadata": {
        "id": "Tvv4Hcqq3tut",
        "colab_type": "code",
        "colab": {}
      },
      "source": [
        "from torch import optim\n",
        "\n",
        "optimizer = optim.SGD(model.parameters(), lr = 0.01)"
      ],
      "execution_count": 0,
      "outputs": []
    },
    {
      "cell_type": "code",
      "metadata": {
        "id": "7Ny2U2KS5tkD",
        "colab_type": "code",
        "colab": {
          "base_uri": "https://localhost:8080/",
          "height": 170
        },
        "outputId": "a32b67fb-3006-43c8-8f39-9b68771beb56"
      },
      "source": [
        "print('Initial weights - ', model[0].weight)"
      ],
      "execution_count": 15,
      "outputs": [
        {
          "output_type": "stream",
          "text": [
            "Initial weights -  Parameter containing:\n",
            "tensor([[ 0.0158,  0.0164,  0.0034,  ..., -0.0155, -0.0266,  0.0249],\n",
            "        [-0.0058,  0.0239, -0.0005,  ...,  0.0326,  0.0268,  0.0156],\n",
            "        [-0.0144,  0.0129, -0.0172,  ...,  0.0342, -0.0073,  0.0120],\n",
            "        ...,\n",
            "        [ 0.0141,  0.0034, -0.0087,  ..., -0.0221, -0.0050, -0.0018],\n",
            "        [-0.0019,  0.0245, -0.0173,  ..., -0.0091, -0.0276,  0.0129],\n",
            "        [-0.0303,  0.0063,  0.0245,  ...,  0.0280, -0.0231,  0.0272]],\n",
            "       requires_grad=True)\n"
          ],
          "name": "stdout"
        }
      ]
    },
    {
      "cell_type": "code",
      "metadata": {
        "id": "XvZk-8w04ngK",
        "colab_type": "code",
        "colab": {
          "base_uri": "https://localhost:8080/",
          "height": 136
        },
        "outputId": "b6e43a11-7863-42d4-f488-7d4a54032a80"
      },
      "source": [
        "images, labels = next(iter(trainloader))\n",
        "images.resize_(64, 784)\n",
        "\n",
        "# Clear the gradients, do this because gradients are accumulated\n",
        "optimizer.zero_grad()\n",
        "\n",
        "# Forward pass, then backward pass, then update weights\n",
        "output = model(images)\n",
        "loss = criterion(output, labels)\n",
        "loss.backward()\n",
        "print('Gradient -', model[0].weight.grad)"
      ],
      "execution_count": 16,
      "outputs": [
        {
          "output_type": "stream",
          "text": [
            "Gradient - tensor([[ 0.0009,  0.0009,  0.0009,  ...,  0.0009,  0.0009,  0.0009],\n",
            "        [-0.0041, -0.0041, -0.0041,  ..., -0.0041, -0.0041, -0.0041],\n",
            "        [-0.0007, -0.0007, -0.0007,  ..., -0.0007, -0.0007, -0.0007],\n",
            "        ...,\n",
            "        [ 0.0001,  0.0001,  0.0001,  ...,  0.0001,  0.0001,  0.0001],\n",
            "        [ 0.0004,  0.0004,  0.0004,  ...,  0.0004,  0.0004,  0.0004],\n",
            "        [-0.0029, -0.0029, -0.0029,  ..., -0.0029, -0.0029, -0.0029]])\n"
          ],
          "name": "stdout"
        }
      ]
    },
    {
      "cell_type": "code",
      "metadata": {
        "id": "rgj9bscy4oN1",
        "colab_type": "code",
        "colab": {
          "base_uri": "https://localhost:8080/",
          "height": 170
        },
        "outputId": "6fd11b6f-94eb-4677-dc27-0a2b36745083"
      },
      "source": [
        "optimizer.step()\n",
        "print('Updated weights - ', model[0].weight)"
      ],
      "execution_count": 17,
      "outputs": [
        {
          "output_type": "stream",
          "text": [
            "Updated weights -  Parameter containing:\n",
            "tensor([[ 0.0158,  0.0163,  0.0034,  ..., -0.0156, -0.0266,  0.0249],\n",
            "        [-0.0057,  0.0240, -0.0005,  ...,  0.0326,  0.0268,  0.0156],\n",
            "        [-0.0144,  0.0129, -0.0172,  ...,  0.0342, -0.0073,  0.0120],\n",
            "        ...,\n",
            "        [ 0.0141,  0.0034, -0.0087,  ..., -0.0221, -0.0050, -0.0018],\n",
            "        [-0.0019,  0.0245, -0.0173,  ..., -0.0091, -0.0276,  0.0129],\n",
            "        [-0.0303,  0.0063,  0.0245,  ...,  0.0281, -0.0231,  0.0272]],\n",
            "       requires_grad=True)\n"
          ],
          "name": "stdout"
        }
      ]
    },
    {
      "cell_type": "code",
      "metadata": {
        "id": "-sauyRHf4tS5",
        "colab_type": "code",
        "colab": {
          "base_uri": "https://localhost:8080/",
          "height": 102
        },
        "outputId": "42d80579-464c-4fed-bf59-17ba5e1fdca5"
      },
      "source": [
        "model = nn.Sequential(nn.Linear(784, 128),\n",
        "                      nn.ReLU(),\n",
        "                      nn.Linear(128, 64),\n",
        "                      nn.ReLU(),\n",
        "                      nn.Linear(64, 10),\n",
        "                      nn.LogSoftmax(dim=1))\n",
        "\n",
        "criterion = nn.NLLLoss()\n",
        "optimizer = optim.SGD(model.parameters(), lr=0.003)\n",
        "\n",
        "epochs = 5\n",
        "for e in range(epochs):\n",
        "    running_loss = 0\n",
        "    for images, labels in trainloader:\n",
        "        # Flatten MNIST images into a 784 long vector\n",
        "        images = images.view(images.shape[0], -1)\n",
        "    \n",
        "        # TODO: Training pass\n",
        "        \n",
        "        optimizer.zero_grad()\n",
        "        \n",
        "        output = model(images)\n",
        "        loss = criterion(output, labels)\n",
        "        loss.backward()\n",
        "        optimizer.step()\n",
        "        \n",
        "        running_loss += loss.item() \n",
        "        \n",
        "    else:\n",
        "        print(f\"Training loss: {running_loss/len(trainloader)}\")"
      ],
      "execution_count": 18,
      "outputs": [
        {
          "output_type": "stream",
          "text": [
            "Training loss: 1.86727640217047\n",
            "Training loss: 0.8189677430241347\n",
            "Training loss: 0.520464127156526\n",
            "Training loss: 0.43017591804520156\n",
            "Training loss: 0.38599084322450006\n"
          ],
          "name": "stdout"
        }
      ]
    },
    {
      "cell_type": "code",
      "metadata": {
        "id": "b4O01Ohq5lIU",
        "colab_type": "code",
        "colab": {}
      },
      "source": [
        "import matplotlib.pyplot as plt\n",
        "import numpy as np\n",
        "\n",
        "def view_classify(img, ps, version=\"MNIST\"):\n",
        "    ''' Function for viewing an image and it's predicted classes.\n",
        "    '''\n",
        "    ps = ps.data.numpy().squeeze()\n",
        "\n",
        "    fig, (ax1, ax2) = plt.subplots(figsize=(6,9), ncols=2)\n",
        "    ax1.imshow(img.resize_(1, 28, 28).numpy().squeeze())\n",
        "    ax1.axis('off')\n",
        "    ax2.barh(np.arange(10), ps)\n",
        "    ax2.set_aspect(0.1)\n",
        "    ax2.set_yticks(np.arange(10))\n",
        "    if version == \"MNIST\":\n",
        "        ax2.set_yticklabels(np.arange(10))\n",
        "    elif version == \"Fashion\":\n",
        "        ax2.set_yticklabels(['T-shirt/top',\n",
        "                            'Trouser',\n",
        "                            'Pullover',\n",
        "                            'Dress',\n",
        "                            'Coat',\n",
        "                            'Sandal',\n",
        "                            'Shirt',\n",
        "                            'Sneaker',\n",
        "                            'Bag',\n",
        "                            'Ankle Boot'], size='small');\n",
        "    ax2.set_title('Class Probability')\n",
        "    ax2.set_xlim(0, 1.1)\n",
        "\n",
        "    plt.tight_layout()"
      ],
      "execution_count": 0,
      "outputs": []
    },
    {
      "cell_type": "code",
      "metadata": {
        "id": "3ysmGHaq5SiX",
        "colab_type": "code",
        "colab": {
          "base_uri": "https://localhost:8080/",
          "height": 278
        },
        "outputId": "9b4a882e-6bea-41a3-aa85-1da0cead2deb"
      },
      "source": [
        "images, labels = next(iter(trainloader))\n",
        "\n",
        "img = images[0].view(1, 784)\n",
        "# Turn off gradients to speed up this part\n",
        "with torch.no_grad():\n",
        "    logps = model(img)\n",
        "\n",
        "# Output of the network are log-probabilities, need to take exponential for probabilities\n",
        "ps = torch.exp(logps)\n",
        "view_classify(img.view(1, 28, 28), ps)\n",
        "print(ps)"
      ],
      "execution_count": 28,
      "outputs": [
        {
          "output_type": "stream",
          "text": [
            "tensor([[3.9958e-04, 1.1549e-04, 2.3699e-03, 1.0326e-03, 1.8480e-04, 1.5745e-02,\n",
            "         1.8688e-04, 9.2420e-05, 9.6789e-01, 1.1988e-02]])\n"
          ],
          "name": "stdout"
        },
        {
          "output_type": "display_data",
          "data": {
            "image/png": "[encoded data removed]",
            "text/plain": [
              "<Figure size 432x648 with 2 Axes>"
            ]
          },
          "metadata": {
            "tags": []
          }
        }
      ]
    },
    {
      "cell_type": "code",
      "metadata": {
        "id": "SxjDaAMy5qfn",
        "colab_type": "code",
        "colab": {}
      },
      "source": [
        ""
      ],
      "execution_count": 0,
      "outputs": []
    }
  ]
}