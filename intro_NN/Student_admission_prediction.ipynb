{
  "nbformat": 4,
  "nbformat_minor": 0,
  "metadata": {
    "colab": {
      "name": "Student_admission_prediction.ipynb",
      "version": "0.3.2",
      "provenance": []
    },
    "kernelspec": {
      "name": "python3",
      "display_name": "Python 3"
    }
  },
  "cells": [
    {
      "cell_type": "markdown",
      "metadata": {
        "id": "U0D_o2JWUGdV",
        "colab_type": "text"
      },
      "source": [
        "# Predicting Student Admissions with Neural Networks\n",
        "In this notebook, we predict student admissions to graduate school at UCLA based on three pieces of data:\n",
        "\n",
        "\n",
        "\n",
        "\n",
        "\n",
        "*   GRE Scores (Test)\n",
        "*   GPA Scores (Grades)\n",
        "*   Class rank (1-4)\n",
        "\n",
        "\n",
        "The dataset originally came from here: http://www.ats.ucla.edu/"
      ]
    },
    {
      "cell_type": "code",
      "metadata": {
        "id": "Ls_oIOrmJD1y",
        "colab_type": "code",
        "outputId": "811d3256-af4b-4d09-ca6d-6a5adbe53fdf",
        "colab": {
          "base_uri": "https://localhost:8080/",
          "height": 359
        }
      },
      "source": [
        "# Importing pandas and numpy\n",
        "import pandas as pd\n",
        "import numpy as np\n",
        "\n",
        "# Reading the csv file into a pandas DataFrame\n",
        "data = pd.read_csv('https://raw.githubusercontent.com/uttejh/DeepLearning_PyTorch/master/student_data.csv')\n",
        "\n",
        "# Printing out the first 10 rows of our data\n",
        "data[:10]"
      ],
      "execution_count": 1,
      "outputs": [
        {
          "output_type": "execute_result",
          "data": {
            "text/html": [
              "<div>\n",
              "<style scoped>\n",
              "    .dataframe tbody tr th:only-of-type {\n",
              "        vertical-align: middle;\n",
              "    }\n",
              "\n",
              "    .dataframe tbody tr th {\n",
              "        vertical-align: top;\n",
              "    }\n",
              "\n",
              "    .dataframe thead th {\n",
              "        text-align: right;\n",
              "    }\n",
              "</style>\n",
              "<table border=\"1\" class=\"dataframe\">\n",
              "  <thead>\n",
              "    <tr style=\"text-align: right;\">\n",
              "      <th></th>\n",
              "      <th>admit</th>\n",
              "      <th>gre</th>\n",
              "      <th>gpa</th>\n",
              "      <th>rank</th>\n",
              "    </tr>\n",
              "  </thead>\n",
              "  <tbody>\n",
              "    <tr>\n",
              "      <th>0</th>\n",
              "      <td>0</td>\n",
              "      <td>380</td>\n",
              "      <td>3.61</td>\n",
              "      <td>3</td>\n",
              "    </tr>\n",
              "    <tr>\n",
              "      <th>1</th>\n",
              "      <td>1</td>\n",
              "      <td>660</td>\n",
              "      <td>3.67</td>\n",
              "      <td>3</td>\n",
              "    </tr>\n",
              "    <tr>\n",
              "      <th>2</th>\n",
              "      <td>1</td>\n",
              "      <td>800</td>\n",
              "      <td>4.00</td>\n",
              "      <td>1</td>\n",
              "    </tr>\n",
              "    <tr>\n",
              "      <th>3</th>\n",
              "      <td>1</td>\n",
              "      <td>640</td>\n",
              "      <td>3.19</td>\n",
              "      <td>4</td>\n",
              "    </tr>\n",
              "    <tr>\n",
              "      <th>4</th>\n",
              "      <td>0</td>\n",
              "      <td>520</td>\n",
              "      <td>2.93</td>\n",
              "      <td>4</td>\n",
              "    </tr>\n",
              "    <tr>\n",
              "      <th>5</th>\n",
              "      <td>1</td>\n",
              "      <td>760</td>\n",
              "      <td>3.00</td>\n",
              "      <td>2</td>\n",
              "    </tr>\n",
              "    <tr>\n",
              "      <th>6</th>\n",
              "      <td>1</td>\n",
              "      <td>560</td>\n",
              "      <td>2.98</td>\n",
              "      <td>1</td>\n",
              "    </tr>\n",
              "    <tr>\n",
              "      <th>7</th>\n",
              "      <td>0</td>\n",
              "      <td>400</td>\n",
              "      <td>3.08</td>\n",
              "      <td>2</td>\n",
              "    </tr>\n",
              "    <tr>\n",
              "      <th>8</th>\n",
              "      <td>1</td>\n",
              "      <td>540</td>\n",
              "      <td>3.39</td>\n",
              "      <td>3</td>\n",
              "    </tr>\n",
              "    <tr>\n",
              "      <th>9</th>\n",
              "      <td>0</td>\n",
              "      <td>700</td>\n",
              "      <td>3.92</td>\n",
              "      <td>2</td>\n",
              "    </tr>\n",
              "  </tbody>\n",
              "</table>\n",
              "</div>"
            ],
            "text/plain": [
              "   admit  gre   gpa  rank\n",
              "0      0  380  3.61     3\n",
              "1      1  660  3.67     3\n",
              "2      1  800  4.00     1\n",
              "3      1  640  3.19     4\n",
              "4      0  520  2.93     4\n",
              "5      1  760  3.00     2\n",
              "6      1  560  2.98     1\n",
              "7      0  400  3.08     2\n",
              "8      1  540  3.39     3\n",
              "9      0  700  3.92     2"
            ]
          },
          "metadata": {
            "tags": []
          },
          "execution_count": 1
        }
      ]
    },
    {
      "cell_type": "markdown",
      "metadata": {
        "id": "g_i6rfm3SGP2",
        "colab_type": "text"
      },
      "source": [
        "# **Plotting the data**"
      ]
    },
    {
      "cell_type": "code",
      "metadata": {
        "id": "I-i2Kqp5K8lf",
        "colab_type": "code",
        "colab": {}
      },
      "source": [
        "import matplotlib.pyplot as plt\n",
        "\n",
        "# plot function\n",
        "def plot_points(data):\n",
        "  # data for 2D plot excluding Rank\n",
        "  y = np.array(data[\"admit\"])\n",
        "  x = np.array(data[[\"gre\",\"gpa\"]])\n",
        "  \n",
        "  admitted = x[np.argwhere(y == 1)]\n",
        "  rejected = x[np.argwhere(y == 0)]\n",
        "  \n",
        "  plt.scatter([s[0][0] for s in rejected], [s[0][1] for s in rejected], s=25, color = \"red\", edgecolor = \"k\")\n",
        "  plt.scatter([s[0][0] for s in admitted], [s[0][1] for s in admitted], s = 25, color = \"blue\", edgecolor = \"k\")\n",
        "  \n",
        "  plt.xlabel('Test (GRE)')\n",
        "  plt.ylabel('Grades (GPA)')\n",
        "    \n",
        "  plt.show()"
      ],
      "execution_count": 0,
      "outputs": []
    },
    {
      "cell_type": "code",
      "metadata": {
        "id": "2Uh65lWzOXts",
        "colab_type": "code",
        "outputId": "d978bf21-61ce-44cc-a860-1ef5839deb32",
        "colab": {
          "base_uri": "https://localhost:8080/",
          "height": 283
        }
      },
      "source": [
        "plot_points(data)"
      ],
      "execution_count": 3,
      "outputs": [
        {
          "output_type": "display_data",
          "data": {
            "image/png": "[encoded data removed]",
            "text/plain": [
              "<Figure size 432x288 with 1 Axes>"
            ]
          },
          "metadata": {
            "tags": []
          }
        }
      ]
    },
    {
      "cell_type": "code",
      "metadata": {
        "id": "iVV7wjSAP72F",
        "colab_type": "code",
        "outputId": "ac070815-f9c1-4621-b278-00a3f9915fa2",
        "colab": {
          "base_uri": "https://localhost:8080/",
          "height": 1000
        }
      },
      "source": [
        "# plot graphs for all the ranks\n",
        "data_rank1 = data[data[\"rank\"] == 1]\n",
        "data_rank2 = data[data[\"rank\"] == 2]\n",
        "data_rank3 = data[data[\"rank\"] == 3]\n",
        "data_rank4 = data[data[\"rank\"] == 4]\n",
        "\n",
        "plt.title(\"Rank 1\")\n",
        "plot_points(data_rank1)\n",
        "\n",
        "plt.title(\"Rank 2\")\n",
        "plot_points(data_rank2)\n",
        "\n",
        "plt.title(\"Rank 3\")\n",
        "plot_points(data_rank3)\n",
        "\n",
        "plt.title(\"Rank 4\")\n",
        "plot_points(data_rank4)\n",
        "\n"
      ],
      "execution_count": 4,
      "outputs": [
        {
          "output_type": "display_data",
          "data": {
            "image/png": "[encoded data removed]",
            "text/plain": [
              "<Figure size 432x288 with 1 Axes>"
            ]
          },
          "metadata": {
            "tags": []
          }
        },
        {
          "output_type": "display_data",
          "data": {
            "image/png": "[encoded data removed]",
            "text/plain": [
              "<Figure size 432x288 with 1 Axes>"
            ]
          },
          "metadata": {
            "tags": []
          }
        },
        {
          "output_type": "display_data",
          "data": {
            "image/png": "[encoded data removed]",
            "text/plain": [
              "<Figure size 432x288 with 1 Axes>"
            ]
          },
          "metadata": {
            "tags": []
          }
        },
        {
          "output_type": "display_data",
          "data": {
            "image/png": "[encoded data removed]",
            "text/plain": [
              "<Figure size 432x288 with 1 Axes>"
            ]
          },
          "metadata": {
            "tags": []
          }
        }
      ]
    },
    {
      "cell_type": "markdown",
      "metadata": {
        "id": "VrubxM6pSm1T",
        "colab_type": "text"
      },
      "source": [
        "# One-hot encoding"
      ]
    },
    {
      "cell_type": "code",
      "metadata": {
        "id": "tu3mUiL7QkR0",
        "colab_type": "code",
        "outputId": "231fc3ce-7a14-4bd9-82f5-713270cbd06c",
        "colab": {
          "base_uri": "https://localhost:8080/",
          "height": 204
        }
      },
      "source": [
        "one_hot_data = pd.get_dummies(data=data, columns=[\"rank\"])\n",
        "one_hot_data[:5]"
      ],
      "execution_count": 5,
      "outputs": [
        {
          "output_type": "execute_result",
          "data": {
            "text/html": [
              "<div>\n",
              "<style scoped>\n",
              "    .dataframe tbody tr th:only-of-type {\n",
              "        vertical-align: middle;\n",
              "    }\n",
              "\n",
              "    .dataframe tbody tr th {\n",
              "        vertical-align: top;\n",
              "    }\n",
              "\n",
              "    .dataframe thead th {\n",
              "        text-align: right;\n",
              "    }\n",
              "</style>\n",
              "<table border=\"1\" class=\"dataframe\">\n",
              "  <thead>\n",
              "    <tr style=\"text-align: right;\">\n",
              "      <th></th>\n",
              "      <th>admit</th>\n",
              "      <th>gre</th>\n",
              "      <th>gpa</th>\n",
              "      <th>rank_1</th>\n",
              "      <th>rank_2</th>\n",
              "      <th>rank_3</th>\n",
              "      <th>rank_4</th>\n",
              "    </tr>\n",
              "  </thead>\n",
              "  <tbody>\n",
              "    <tr>\n",
              "      <th>0</th>\n",
              "      <td>0</td>\n",
              "      <td>380</td>\n",
              "      <td>3.61</td>\n",
              "      <td>0</td>\n",
              "      <td>0</td>\n",
              "      <td>1</td>\n",
              "      <td>0</td>\n",
              "    </tr>\n",
              "    <tr>\n",
              "      <th>1</th>\n",
              "      <td>1</td>\n",
              "      <td>660</td>\n",
              "      <td>3.67</td>\n",
              "      <td>0</td>\n",
              "      <td>0</td>\n",
              "      <td>1</td>\n",
              "      <td>0</td>\n",
              "    </tr>\n",
              "    <tr>\n",
              "      <th>2</th>\n",
              "      <td>1</td>\n",
              "      <td>800</td>\n",
              "      <td>4.00</td>\n",
              "      <td>1</td>\n",
              "      <td>0</td>\n",
              "      <td>0</td>\n",
              "      <td>0</td>\n",
              "    </tr>\n",
              "    <tr>\n",
              "      <th>3</th>\n",
              "      <td>1</td>\n",
              "      <td>640</td>\n",
              "      <td>3.19</td>\n",
              "      <td>0</td>\n",
              "      <td>0</td>\n",
              "      <td>0</td>\n",
              "      <td>1</td>\n",
              "    </tr>\n",
              "    <tr>\n",
              "      <th>4</th>\n",
              "      <td>0</td>\n",
              "      <td>520</td>\n",
              "      <td>2.93</td>\n",
              "      <td>0</td>\n",
              "      <td>0</td>\n",
              "      <td>0</td>\n",
              "      <td>1</td>\n",
              "    </tr>\n",
              "  </tbody>\n",
              "</table>\n",
              "</div>"
            ],
            "text/plain": [
              "   admit  gre   gpa  rank_1  rank_2  rank_3  rank_4\n",
              "0      0  380  3.61       0       0       1       0\n",
              "1      1  660  3.67       0       0       1       0\n",
              "2      1  800  4.00       1       0       0       0\n",
              "3      1  640  3.19       0       0       0       1\n",
              "4      0  520  2.93       0       0       0       1"
            ]
          },
          "metadata": {
            "tags": []
          },
          "execution_count": 5
        }
      ]
    },
    {
      "cell_type": "markdown",
      "metadata": {
        "id": "XfxfetNK_tcf",
        "colab_type": "text"
      },
      "source": [
        "# Scaling the data"
      ]
    },
    {
      "cell_type": "code",
      "metadata": {
        "id": "Nq3x2iOeWh6b",
        "colab_type": "code",
        "outputId": "abe96f1d-1dde-4bd4-872a-f2f253fe25ac",
        "colab": {
          "base_uri": "https://localhost:8080/",
          "height": 204
        }
      },
      "source": [
        "one_hot_data.gpa = one_hot_data.gpa/4\n",
        "one_hot_data.gre = one_hot_data.gre/800\n",
        "one_hot_data[:5]"
      ],
      "execution_count": 6,
      "outputs": [
        {
          "output_type": "execute_result",
          "data": {
            "text/html": [
              "<div>\n",
              "<style scoped>\n",
              "    .dataframe tbody tr th:only-of-type {\n",
              "        vertical-align: middle;\n",
              "    }\n",
              "\n",
              "    .dataframe tbody tr th {\n",
              "        vertical-align: top;\n",
              "    }\n",
              "\n",
              "    .dataframe thead th {\n",
              "        text-align: right;\n",
              "    }\n",
              "</style>\n",
              "<table border=\"1\" class=\"dataframe\">\n",
              "  <thead>\n",
              "    <tr style=\"text-align: right;\">\n",
              "      <th></th>\n",
              "      <th>admit</th>\n",
              "      <th>gre</th>\n",
              "      <th>gpa</th>\n",
              "      <th>rank_1</th>\n",
              "      <th>rank_2</th>\n",
              "      <th>rank_3</th>\n",
              "      <th>rank_4</th>\n",
              "    </tr>\n",
              "  </thead>\n",
              "  <tbody>\n",
              "    <tr>\n",
              "      <th>0</th>\n",
              "      <td>0</td>\n",
              "      <td>0.475</td>\n",
              "      <td>0.9025</td>\n",
              "      <td>0</td>\n",
              "      <td>0</td>\n",
              "      <td>1</td>\n",
              "      <td>0</td>\n",
              "    </tr>\n",
              "    <tr>\n",
              "      <th>1</th>\n",
              "      <td>1</td>\n",
              "      <td>0.825</td>\n",
              "      <td>0.9175</td>\n",
              "      <td>0</td>\n",
              "      <td>0</td>\n",
              "      <td>1</td>\n",
              "      <td>0</td>\n",
              "    </tr>\n",
              "    <tr>\n",
              "      <th>2</th>\n",
              "      <td>1</td>\n",
              "      <td>1.000</td>\n",
              "      <td>1.0000</td>\n",
              "      <td>1</td>\n",
              "      <td>0</td>\n",
              "      <td>0</td>\n",
              "      <td>0</td>\n",
              "    </tr>\n",
              "    <tr>\n",
              "      <th>3</th>\n",
              "      <td>1</td>\n",
              "      <td>0.800</td>\n",
              "      <td>0.7975</td>\n",
              "      <td>0</td>\n",
              "      <td>0</td>\n",
              "      <td>0</td>\n",
              "      <td>1</td>\n",
              "    </tr>\n",
              "    <tr>\n",
              "      <th>4</th>\n",
              "      <td>0</td>\n",
              "      <td>0.650</td>\n",
              "      <td>0.7325</td>\n",
              "      <td>0</td>\n",
              "      <td>0</td>\n",
              "      <td>0</td>\n",
              "      <td>1</td>\n",
              "    </tr>\n",
              "  </tbody>\n",
              "</table>\n",
              "</div>"
            ],
            "text/plain": [
              "   admit    gre     gpa  rank_1  rank_2  rank_3  rank_4\n",
              "0      0  0.475  0.9025       0       0       1       0\n",
              "1      1  0.825  0.9175       0       0       1       0\n",
              "2      1  1.000  1.0000       1       0       0       0\n",
              "3      1  0.800  0.7975       0       0       0       1\n",
              "4      0  0.650  0.7325       0       0       0       1"
            ]
          },
          "metadata": {
            "tags": []
          },
          "execution_count": 6
        }
      ]
    },
    {
      "cell_type": "markdown",
      "metadata": {
        "id": "27LCTw6xJwSi",
        "colab_type": "text"
      },
      "source": [
        "# Training"
      ]
    },
    {
      "cell_type": "code",
      "metadata": {
        "id": "-EbXntdqAOd2",
        "colab_type": "code",
        "colab": {
          "base_uri": "https://localhost:8080/",
          "height": 449
        },
        "outputId": "93fbbb29-31b4-4fd2-e74a-a62f8bb8206a"
      },
      "source": [
        "# Train-test split\n",
        "sample = np.random.choice(one_hot_data.index, size = int(len(one_hot_data)*0.9), replace = False)\n",
        "train_data, test_data = one_hot_data.iloc[sample], one_hot_data.drop(sample)\n",
        "\n",
        "print(\"Number of training samples is\", len(train_data))\n",
        "print(\"Number of testing samples is\", len(test_data))\n",
        "print(train_data[:10])\n",
        "print(test_data[:10])"
      ],
      "execution_count": 12,
      "outputs": [
        {
          "output_type": "stream",
          "text": [
            "Number of training samples is 360\n",
            "Number of testing samples is 40\n",
            "     admit    gre     gpa  rank_1  rank_2  rank_3  rank_4\n",
            "347      0  0.725  0.9500       0       1       0       0\n",
            "55       1  0.925  1.0000       0       0       1       0\n",
            "91       1  0.900  0.9100       1       0       0       0\n",
            "333      0  0.700  0.8575       0       0       1       0\n",
            "13       0  0.875  0.7700       0       1       0       0\n",
            "124      0  0.900  0.9700       0       0       1       0\n",
            "159      0  0.875  0.9550       0       0       1       0\n",
            "332      0  0.525  0.7400       1       0       0       0\n",
            "399      0  0.750  0.9725       0       0       1       0\n",
            "87       0  0.750  0.8700       0       1       0       0\n",
            "     admit    gre     gpa  rank_1  rank_2  rank_3  rank_4\n",
            "11       0  0.550  0.8050       1       0       0       0\n",
            "12       1  0.950  1.0000       1       0       0       0\n",
            "16       0  0.975  0.9675       0       0       0       1\n",
            "21       1  0.825  0.9075       0       1       0       0\n",
            "26       1  0.775  0.9025       1       0       0       0\n",
            "51       0  0.550  0.7825       0       0       0       1\n",
            "60       1  0.775  0.7950       0       1       0       0\n",
            "86       0  0.750  0.8300       0       1       0       0\n",
            "118      1  1.000  0.9250       1       0       0       0\n",
            "122      0  0.650  0.7125       0       0       1       0\n"
          ],
          "name": "stdout"
        }
      ]
    },
    {
      "cell_type": "code",
      "metadata": {
        "id": "ikR-RsxHLPgr",
        "colab_type": "code",
        "colab": {
          "base_uri": "https://localhost:8080/",
          "height": 413
        },
        "outputId": "38a2db15-bcea-4aba-b5e5-0d56aa4f169e"
      },
      "source": [
        "# features and targets\n",
        "features = train_data.drop('admit', axis=1)\n",
        "targets = train_data['admit']\n",
        "features_test = test_data.drop('admit', axis=1)\n",
        "targets_test = test_data['admit']\n",
        "\n",
        "print(features[:10])\n",
        "print(targets[:10])"
      ],
      "execution_count": 13,
      "outputs": [
        {
          "output_type": "stream",
          "text": [
            "       gre     gpa  rank_1  rank_2  rank_3  rank_4\n",
            "347  0.725  0.9500       0       1       0       0\n",
            "55   0.925  1.0000       0       0       1       0\n",
            "91   0.900  0.9100       1       0       0       0\n",
            "333  0.700  0.8575       0       0       1       0\n",
            "13   0.875  0.7700       0       1       0       0\n",
            "124  0.900  0.9700       0       0       1       0\n",
            "159  0.875  0.9550       0       0       1       0\n",
            "332  0.525  0.7400       1       0       0       0\n",
            "399  0.750  0.9725       0       0       1       0\n",
            "87   0.750  0.8700       0       1       0       0\n",
            "347    0\n",
            "55     1\n",
            "91     1\n",
            "333    0\n",
            "13     0\n",
            "124    0\n",
            "159    0\n",
            "332    0\n",
            "399    0\n",
            "87     0\n",
            "Name: admit, dtype: int64\n"
          ],
          "name": "stdout"
        }
      ]
    },
    {
      "cell_type": "code",
      "metadata": {
        "id": "NxfB8QrgMIxn",
        "colab_type": "code",
        "colab": {}
      },
      "source": [
        "# Activation (sigmoid) function\n",
        "def sigmoid(x):\n",
        "    return 1 / (1 + np.exp(-x))\n",
        "  \n",
        "# sigmoid derivative\n",
        "def sigmoid_prime(x):\n",
        "    return sigmoid(x) * (1-sigmoid(x))\n",
        "  \n",
        "# error\n",
        "def error_formula(y, output):\n",
        "    return - y*np.log(output) - (1 - y) * np.log(1-output)"
      ],
      "execution_count": 0,
      "outputs": []
    },
    {
      "cell_type": "code",
      "metadata": {
        "id": "G7Z10fp6MYmQ",
        "colab_type": "code",
        "colab": {}
      },
      "source": [
        "# Backpropagation\n",
        "def error_term_formula(x, y, output):\n",
        "    return (y-output)*sigmoid_prime(x)"
      ],
      "execution_count": 0,
      "outputs": []
    },
    {
      "cell_type": "code",
      "metadata": {
        "id": "9zoBDXBSNrkw",
        "colab_type": "code",
        "colab": {
          "base_uri": "https://localhost:8080/",
          "height": 575
        },
        "outputId": "3695e69b-d98a-4a3b-a8e3-c31a227364f7"
      },
      "source": [
        "\n",
        "epochs = 1000\n",
        "learnrate = 0.5\n",
        "\n",
        "# Training function\n",
        "def train_nn(features, targets, epochs, learnrate):\n",
        "    \n",
        "    # Use to same seed to make debugging easier\n",
        "    np.random.seed(42)\n",
        "\n",
        "    n_records, n_features = features.shape\n",
        "    last_loss = None\n",
        "\n",
        "    # Initialize weights\n",
        "    weights = np.random.normal(scale=1 / n_features**.5, size=n_features)\n",
        "\n",
        "    for e in range(epochs):\n",
        "        del_w = np.zeros(weights.shape)\n",
        "        for x, y in zip(features.values, targets):\n",
        "            # Loop through all records, x is the input, y is the target\n",
        "\n",
        "            # Activation of the output unit\n",
        "            #   Notice we multiply the inputs and the weights here \n",
        "            #   rather than storing h as a separate variable \n",
        "            output = sigmoid(np.dot(x, weights))\n",
        "\n",
        "            # The error, the target minus the network output\n",
        "            error = error_formula(y, output)\n",
        "\n",
        "            # The error term\n",
        "            error_term = error_term_formula(x, y, output)\n",
        "\n",
        "            # The gradient descent step, the error times the gradient times the inputs\n",
        "            del_w += error_term * x\n",
        "\n",
        "        # Update the weights here. The learning rate times the \n",
        "        # change in weights, divided by the number of records to average\n",
        "        weights += learnrate * del_w / n_records\n",
        "\n",
        "        # Printing out the mean square error on the training set\n",
        "        if e % (epochs / 10) == 0:\n",
        "            out = sigmoid(np.dot(features, weights))\n",
        "            loss = np.mean((out - targets) ** 2)\n",
        "            print(\"Epoch:\", e)\n",
        "            if last_loss and last_loss < loss:\n",
        "                print(\"Train loss: \", loss, \"  WARNING - Loss Increasing\")\n",
        "            else:\n",
        "                print(\"Train loss: \", loss)\n",
        "            last_loss = loss\n",
        "            print(\"=========\")\n",
        "    print(\"Finished training!\")\n",
        "    return weights\n",
        "    \n",
        "weights = train_nn(features, targets, epochs, learnrate)"
      ],
      "execution_count": 16,
      "outputs": [
        {
          "output_type": "stream",
          "text": [
            "Epoch: 0\n",
            "Train loss:  0.2738686769687214\n",
            "=========\n",
            "Epoch: 100\n",
            "Train loss:  0.2093398084841502\n",
            "=========\n",
            "Epoch: 200\n",
            "Train loss:  0.20703501003860778\n",
            "=========\n",
            "Epoch: 300\n",
            "Train loss:  0.20586828275349386\n",
            "=========\n",
            "Epoch: 400\n",
            "Train loss:  0.2052541441877138\n",
            "=========\n",
            "Epoch: 500\n",
            "Train loss:  0.2049041381456164\n",
            "=========\n",
            "Epoch: 600\n",
            "Train loss:  0.2046818255221687\n",
            "=========\n",
            "Epoch: 700\n",
            "Train loss:  0.20452262048730907\n",
            "=========\n",
            "Epoch: 800\n",
            "Train loss:  0.20439550091117045\n",
            "=========\n",
            "Epoch: 900\n",
            "Train loss:  0.20428529816923782\n",
            "=========\n",
            "Finished training!\n"
          ],
          "name": "stdout"
        }
      ]
    },
    {
      "cell_type": "code",
      "metadata": {
        "id": "7WivosAcN0tv",
        "colab_type": "code",
        "colab": {
          "base_uri": "https://localhost:8080/",
          "height": 35
        },
        "outputId": "55a6abe6-afdf-451a-a60b-b8f0c1e4d257"
      },
      "source": [
        "# Calculate accuracy on test data\n",
        "test_out = sigmoid(np.dot(features_test, weights))\n",
        "predictions = test_out > 0.5\n",
        "accuracy = np.mean(predictions == targets_test)\n",
        "print(\"Prediction accuracy: {:.3f}\".format(accuracy))"
      ],
      "execution_count": 17,
      "outputs": [
        {
          "output_type": "stream",
          "text": [
            "Prediction accuracy: 0.650\n"
          ],
          "name": "stdout"
        }
      ]
    },
    {
      "cell_type": "code",
      "metadata": {
        "id": "ec_uuvYvOdri",
        "colab_type": "code",
        "colab": {}
      },
      "source": [
        ""
      ],
      "execution_count": 0,
      "outputs": []
    }
  ]
}