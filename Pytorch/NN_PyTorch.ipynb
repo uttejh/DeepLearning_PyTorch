{
  "nbformat": 4,
  "nbformat_minor": 0,
  "metadata": {
    "colab": {
      "name": "NN_PyTorch.ipynb",
      "version": "0.3.2",
      "provenance": []
    },
    "kernelspec": {
      "name": "python3",
      "display_name": "Python 3"
    }
  },
  "cells": [
    {
      "cell_type": "code",
      "metadata": {
        "id": "q__6mo4ZnYZs",
        "colab_type": "code",
        "colab": {}
      },
      "source": [
        "import torch\n",
        "from torch import nn"
      ],
      "execution_count": 0,
      "outputs": []
    },
    {
      "cell_type": "code",
      "metadata": {
        "id": "Vlmo6gUXoNfK",
        "colab_type": "code",
        "colab": {}
      },
      "source": [
        "class Network(nn.Module):\n",
        "  def __init__(self):\n",
        "    super().__init()\n",
        "    \n",
        "    # Inputs to hidden layer linear transformation\n",
        "    self.hidden = nn.Linear(784, 256)\n",
        "\n",
        "    # Output layer, 10 units - one for each digit\n",
        "    self.output = nn.Linear(256, 10)\n",
        "    \n",
        "    # Define sigmoid activation and softmax output \n",
        "    self.sigmoid = nn.Sigmoid()\n",
        "    self.softmax = nn.Softmax(dim=1)\n",
        "    \n",
        "    def forward(self, x):\n",
        "      # Pass the input tensor through each of our operations\n",
        "      x = self.hidden(x)\n",
        "      x = self.sigmoid(x)\n",
        "      x = self.output(x)\n",
        "      x = self.softmax(x)\n",
        "        \n",
        "      return x\n",
        "      \n",
        "    "
      ],
      "execution_count": 0,
      "outputs": []
    }
  ]
}