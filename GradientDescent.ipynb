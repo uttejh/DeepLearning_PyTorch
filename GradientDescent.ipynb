{
  "nbformat": 4,
  "nbformat_minor": 0,
  "metadata": {
    "colab": {
      "name": "Untitled",
      "version": "0.3.2",
      "provenance": []
    },
    "kernelspec": {
      "name": "python3",
      "display_name": "Python 3"
    }
  },
  "cells": [
    {
      "cell_type": "code",
      "metadata": {
        "id": "Bp7yRT_tmDN1",
        "colab_type": "code",
        "colab": {}
      },
      "source": [
        "import matplotlib.pyplot as plt\n",
        "import numpy as np\n",
        "import pandas as pd"
      ],
      "execution_count": 0,
      "outputs": []
    },
    {
      "cell_type": "markdown",
      "metadata": {
        "id": "VvocBqiPmfO7",
        "colab_type": "text"
      },
      "source": [
        "https://github.com/udacity/deep-learning-v2-pytorch.git"
      ]
    },
    {
      "cell_type": "markdown",
      "metadata": {
        "id": "Tk5DFPBknyx-",
        "colab_type": "text"
      },
      "source": [
        "**Read** **Data**"
      ]
    },
    {
      "cell_type": "code",
      "metadata": {
        "id": "HOlgk8bDnwUF",
        "colab_type": "code",
        "colab": {}
      },
      "source": [
        "url = \"https://raw.githubusercontent.com/uttejh/DeepLearning_PyTorch/master/data.csv\"\n",
        "data = pd.read_csv(url, header=None)\n",
        "def display(m, b, color='g--'):\n",
        "    plt.xlim(-0.05,1.05)\n",
        "    plt.ylim(-0.05,1.05)\n",
        "    x = np.arange(-10, 10, 0.1)\n",
        "    plt.plot(x, m*x+b, color)"
      ],
      "execution_count": 0,
      "outputs": []
    },
    {
      "cell_type": "markdown",
      "metadata": {
        "id": "LyIf6AhbnwjO",
        "colab_type": "text"
      },
      "source": [
        "**Plot** **Data**"
      ]
    },
    {
      "cell_type": "code",
      "metadata": {
        "id": "083J4gh0w87P",
        "colab_type": "code",
        "colab": {}
      },
      "source": [
        "x= np.array(data[[0,1]])\n",
        "y=np.array(data[2])"
      ],
      "execution_count": 0,
      "outputs": []
    },
    {
      "cell_type": "code",
      "metadata": {
        "id": "hDuRH0h8x2rE",
        "colab_type": "code",
        "colab": {}
      },
      "source": [
        "def plot_points(x, y):\n",
        "  ones = x[np.argwhere(y == 1)]\n",
        "  zeros = x[np.argwhere(y == 0)]\n",
        "  plt.scatter([s[0][0] for s in ones], [s[0][1] for s in ones], 25, color = 'red', edgecolor = 'k')\n",
        "  plt.scatter([s[0][0] for s in zeros], [s[0][1] for s in zeros], s = 25, color = 'blue', edgecolor = 'k')"
      ],
      "execution_count": 0,
      "outputs": []
    },
    {
      "cell_type": "code",
      "metadata": {
        "id": "FY3FArZr4SqT",
        "colab_type": "code",
        "outputId": "d3aa6cea-4071-4481-e505-b218ba20e81d",
        "colab": {
          "base_uri": "https://localhost:8080/",
          "height": 269
        }
      },
      "source": [
        "plot_points(x,y)"
      ],
      "execution_count": 36,
      "outputs": [
        {
          "output_type": "display_data",
          "data": {
            "image/png": "[encoded data removed]",
            "text/plain": [
              "<Figure size 432x288 with 1 Axes>"
            ]
          },
          "metadata": {
            "tags": []
          }
        }
      ]
    },
    {
      "cell_type": "code",
      "metadata": {
        "id": "pbh0L9nn4WnS",
        "colab_type": "code",
        "colab": {}
      },
      "source": [
        "# Activation (sigmoid) function\n",
        "def sigmoid(x):\n",
        "    num = 1\n",
        "    den = 1 + np.exp(-x)\n",
        "    \n",
        "    return num/den\n",
        "\n",
        "# Output (prediction) formula\n",
        "def output_formula(features, weights, bias):\n",
        "    ybar = weights[0]*features[0] + weights[1]*features[1] + bias\n",
        "    \n",
        "    return sigmoid(ybar)\n",
        "\n",
        "# Error (log-loss) formula\n",
        "def error_formula(y, output):\n",
        "    err = -y*np.log(output) - (1-y)*np.log(1-output)\n",
        "    \n",
        "    return err\n",
        "\n",
        "# Gradient descent step\n",
        "def update_weights(x, y, output, weights, b, learnrate):\n",
        "    \n",
        "    weights[0] = weights[0] + learnrate*(y-output)*x[0]\n",
        "    weights[1] = weights[1] + learnrate*(y-output)*x[1]\n",
        "    \n",
        "    b = b + learnrate*(y-output)\n",
        "    \n",
        "    return weights, b"
      ],
      "execution_count": 0,
      "outputs": []
    },
    {
      "cell_type": "code",
      "metadata": {
        "id": "4RtKYloKKTlb",
        "colab_type": "code",
        "colab": {}
      },
      "source": [
        "np.random.seed(44)\n",
        "\n",
        "epochs = 100\n",
        "learnrate = 0.01\n"
      ],
      "execution_count": 0,
      "outputs": []
    },
    {
      "cell_type": "code",
      "metadata": {
        "id": "OYbqF6L8Ld3h",
        "colab_type": "code",
        "colab": {}
      },
      "source": [
        "def train(features, targets, epochs, learnrate, graph_lines=False):\n",
        "  errors = []\n",
        "  \n",
        "  num_records, num_features = features.shape\n",
        "  \n",
        "  last_loss = None\n",
        "  \n",
        "  weights = np.random.normal(scale = 1/2**.5, size = num_features)\n",
        "  bias=0\n",
        "  for e in range(epochs):\n",
        "    for x,y in zip(features, targets):\n",
        "      output = output_formula(x, weights, bias)\n",
        "      error = error_formula(y, output)\n",
        "      \n",
        "      weights, bias = update_weights(x, y, output, weights, bias, learnrate)\n",
        "      \n",
        "#       out = output_formula(features, weights, bias)\n",
        "#       loss = np.mean(error_formula(targets, out))\n",
        "#       errors.append(loss)\n",
        "#       if e % (epochs / 10) == 0:\n",
        "#           print(\"\\n========== Epoch\", e,\"==========\")\n",
        "#           if last_loss and last_loss < loss:\n",
        "#               print(\"Train loss: \", loss, \"  WARNING - Loss Increasing\")\n",
        "#           else:\n",
        "#               print(\"Train loss: \", loss)\n",
        "#           last_loss = loss\n",
        "#           predictions = out > 0.5\n",
        "#           accuracy = np.mean(predictions == targets)\n",
        "#           print(\"Accuracy: \", accuracy)\n",
        "#       if graph_lines and e % (epochs / 100) == 0:\n",
        "#           display(-weights[0]/weights[1], -bias/weights[1])\n",
        "     \n",
        "  # Plotting the solution boundary\n",
        "  plt.title(\"Solution boundary\")\n",
        "  display(-weights[0]/weights[1], -bias/weights[1], 'black')\n",
        "\n",
        "  # Plotting the data\n",
        "  plot_points(features, targets)\n",
        "  plt.show()\n",
        "\n",
        "  # Plotting the error\n",
        "  plt.title(\"Error Plot\")\n",
        "  plt.xlabel('Number of epochs')\n",
        "  plt.ylabel('Error')\n",
        "  plt.plot(errors)\n",
        "  plt.show()"
      ],
      "execution_count": 0,
      "outputs": []
    },
    {
      "cell_type": "code",
      "metadata": {
        "id": "XkXobcpnd142",
        "colab_type": "code",
        "colab": {
          "base_uri": "https://localhost:8080/",
          "height": 559
        },
        "outputId": "d3bf1cf6-bfe2-42b6-e862-b8291da2b25e"
      },
      "source": [
        "train(x, y, epochs, learnrate, True)"
      ],
      "execution_count": 44,
      "outputs": [
        {
          "output_type": "display_data",
          "data": {
            "image/png": "[encoded data removed]",
            "text/plain": [
              "<Figure size 432x288 with 1 Axes>"
            ]
          },
          "metadata": {
            "tags": []
          }
        },
        {
          "output_type": "display_data",
          "data": {
            "image/png": "[encoded data removed]",
            "text/plain": [
              "<Figure size 432x288 with 1 Axes>"
            ]
          },
          "metadata": {
            "tags": []
          }
        }
      ]
    },
    {
      "cell_type": "code",
      "metadata": {
        "id": "yjwGTC5ztLfe",
        "colab_type": "code",
        "colab": {}
      },
      "source": [
        ""
      ],
      "execution_count": 0,
      "outputs": []
    }
  ]
}