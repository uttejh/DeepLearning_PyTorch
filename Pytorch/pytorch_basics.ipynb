{
  "nbformat": 4,
  "nbformat_minor": 0,
  "metadata": {
    "colab": {
      "name": "pytorch_basics.ipynb",
      "version": "0.3.2",
      "provenance": []
    },
    "kernelspec": {
      "name": "python3",
      "display_name": "Python 3"
    }
  },
  "cells": [
    {
      "cell_type": "code",
      "metadata": {
        "id": "2YO1jEiy84a6",
        "colab_type": "code",
        "colab": {}
      },
      "source": [
        "import torch"
      ],
      "execution_count": 0,
      "outputs": []
    },
    {
      "cell_type": "code",
      "metadata": {
        "id": "PpdmvCqu9Ai0",
        "colab_type": "code",
        "colab": {}
      },
      "source": [
        "def sigmoid(x):\n",
        "  return 1/(1+torch.exp(-x))"
      ],
      "execution_count": 0,
      "outputs": []
    },
    {
      "cell_type": "code",
      "metadata": {
        "id": "pZqakbyP9NNw",
        "colab_type": "code",
        "colab": {}
      },
      "source": [
        "torch.manual_seed(7)\n",
        "\n",
        "features = torch.randn((1,5))\n",
        "weights = torch.randn_like(features)\n",
        "\n",
        "bias = torch.randn((1,1))"
      ],
      "execution_count": 0,
      "outputs": []
    },
    {
      "cell_type": "code",
      "metadata": {
        "id": "exNXI-_B_0YU",
        "colab_type": "code",
        "colab": {
          "base_uri": "https://localhost:8080/",
          "height": 35
        },
        "outputId": "4a79f48f-e49e-47bb-f341-50e216ba76dd"
      },
      "source": [
        "y = sigmoid(torch.sum(features*weights) + bias)\n",
        "y"
      ],
      "execution_count": 9,
      "outputs": [
        {
          "output_type": "execute_result",
          "data": {
            "text/plain": [
              "tensor([[0.1595]])"
            ]
          },
          "metadata": {
            "tags": []
          },
          "execution_count": 9
        }
      ]
    },
    {
      "cell_type": "code",
      "metadata": {
        "id": "45qHtkrRB8Xh",
        "colab_type": "code",
        "colab": {
          "base_uri": "https://localhost:8080/",
          "height": 35
        },
        "outputId": "fc88e723-1d68-49ae-b469-208bb2948290"
      },
      "source": [
        "weights = weights.view((5,1))\n",
        "#weights.shape\n",
        "\n",
        "y = sigmoid(torch.mm(features,weights) + bias)\n",
        "y"
      ],
      "execution_count": 18,
      "outputs": [
        {
          "output_type": "execute_result",
          "data": {
            "text/plain": [
              "tensor([[0.1595]])"
            ]
          },
          "metadata": {
            "tags": []
          },
          "execution_count": 18
        }
      ]
    },
    {
      "cell_type": "code",
      "metadata": {
        "id": "GysKVOLrDVkx",
        "colab_type": "code",
        "colab": {}
      },
      "source": [
        "\n",
        "### Generate some data\n",
        "torch.manual_seed(7) # Set the random seed so things are predictable\n",
        "\n",
        "# Features are 3 random normal variables\n",
        "features = torch.randn((1, 3))\n",
        "\n",
        "# Define the size of each layer in our network\n",
        "n_input = features.shape[1]     # Number of input units, must match number of input features\n",
        "n_hidden = 2                    # Number of hidden units \n",
        "n_output = 1                    # Number of output units\n",
        "\n",
        "# Weights for inputs to hidden layer\n",
        "W1 = torch.randn(n_input, n_hidden)\n",
        "# Weights for hidden layer to output layer\n",
        "W2 = torch.randn(n_hidden, n_output)\n",
        "\n",
        "# and bias terms for hidden and output layers\n",
        "B1 = torch.randn((1, n_hidden))\n",
        "B2 = torch.randn((1, n_output))"
      ],
      "execution_count": 0,
      "outputs": []
    },
    {
      "cell_type": "code",
      "metadata": {
        "id": "JTjY7Ds0IPTg",
        "colab_type": "code",
        "colab": {
          "base_uri": "https://localhost:8080/",
          "height": 35
        },
        "outputId": "0b127a09-3084-4f36-fbda-ff58ae5a6484"
      },
      "source": [
        "y1 = sigmoid(torch.matmul(features, W1) + B1)\n",
        "y1"
      ],
      "execution_count": 23,
      "outputs": [
        {
          "output_type": "execute_result",
          "data": {
            "text/plain": [
              "tensor([[0.6813, 0.4355]])"
            ]
          },
          "metadata": {
            "tags": []
          },
          "execution_count": 23
        }
      ]
    },
    {
      "cell_type": "code",
      "metadata": {
        "id": "984SXpx6J665",
        "colab_type": "code",
        "colab": {
          "base_uri": "https://localhost:8080/",
          "height": 35
        },
        "outputId": "74c13964-8537-43e2-a488-91fb104cd68b"
      },
      "source": [
        "y2 = sigmoid(torch.matmul(y1, W2) + B2)\n",
        "y2"
      ],
      "execution_count": 24,
      "outputs": [
        {
          "output_type": "execute_result",
          "data": {
            "text/plain": [
              "tensor([[0.3171]])"
            ]
          },
          "metadata": {
            "tags": []
          },
          "execution_count": 24
        }
      ]
    },
    {
      "cell_type": "code",
      "metadata": {
        "id": "xUlTOsfvKBdk",
        "colab_type": "code",
        "colab": {
          "base_uri": "https://localhost:8080/",
          "height": 89
        },
        "outputId": "14ec20fc-7622-4cf1-c499-d8f6317bd9c4"
      },
      "source": [
        "# Torch to numpy to Torch\n",
        "import numpy as np\n",
        "a = np.random.rand(4,3)\n",
        "a"
      ],
      "execution_count": 25,
      "outputs": [
        {
          "output_type": "execute_result",
          "data": {
            "text/plain": [
              "array([[0.59546705, 0.57500768, 0.75819577],\n",
              "       [0.43928203, 0.59761369, 0.71631305],\n",
              "       [0.4310064 , 0.96475131, 0.19697307],\n",
              "       [0.36615015, 0.71626492, 0.9235685 ]])"
            ]
          },
          "metadata": {
            "tags": []
          },
          "execution_count": 25
        }
      ]
    },
    {
      "cell_type": "code",
      "metadata": {
        "id": "EZ0mA2r9KQS4",
        "colab_type": "code",
        "colab": {
          "base_uri": "https://localhost:8080/",
          "height": 89
        },
        "outputId": "4910a40b-2c3f-4d5c-9687-1f639aa496a6"
      },
      "source": [
        "b= torch.from_numpy(a)\n",
        "b"
      ],
      "execution_count": 29,
      "outputs": [
        {
          "output_type": "execute_result",
          "data": {
            "text/plain": [
              "tensor([[0.5955, 0.5750, 0.7582],\n",
              "        [0.4393, 0.5976, 0.7163],\n",
              "        [0.4310, 0.9648, 0.1970],\n",
              "        [0.3662, 0.7163, 0.9236]], dtype=torch.float64)"
            ]
          },
          "metadata": {
            "tags": []
          },
          "execution_count": 29
        }
      ]
    },
    {
      "cell_type": "code",
      "metadata": {
        "id": "oI8ysitCKR-K",
        "colab_type": "code",
        "colab": {
          "base_uri": "https://localhost:8080/",
          "height": 89
        },
        "outputId": "14dd6eaa-874d-4b42-8f73-42bd44c2a529"
      },
      "source": [
        "b.numpy()"
      ],
      "execution_count": 33,
      "outputs": [
        {
          "output_type": "execute_result",
          "data": {
            "text/plain": [
              "array([[0.59546705, 0.57500768, 0.75819577],\n",
              "       [0.43928203, 0.59761369, 0.71631305],\n",
              "       [0.4310064 , 0.96475131, 0.19697307],\n",
              "       [0.36615015, 0.71626492, 0.9235685 ]])"
            ]
          },
          "metadata": {
            "tags": []
          },
          "execution_count": 33
        }
      ]
    },
    {
      "cell_type": "code",
      "metadata": {
        "id": "-OHjsMYTKbSl",
        "colab_type": "code",
        "colab": {
          "base_uri": "https://localhost:8080/",
          "height": 89
        },
        "outputId": "f3600024-664a-46f0-e2cc-880613513045"
      },
      "source": [
        "b"
      ],
      "execution_count": 31,
      "outputs": [
        {
          "output_type": "execute_result",
          "data": {
            "text/plain": [
              "tensor([[0.5955, 0.5750, 0.7582],\n",
              "        [0.4393, 0.5976, 0.7163],\n",
              "        [0.4310, 0.9648, 0.1970],\n",
              "        [0.3662, 0.7163, 0.9236]], dtype=torch.float64)"
            ]
          },
          "metadata": {
            "tags": []
          },
          "execution_count": 31
        }
      ]
    },
    {
      "cell_type": "code",
      "metadata": {
        "id": "914A1JGCKdQ4",
        "colab_type": "code",
        "colab": {
          "base_uri": "https://localhost:8080/",
          "height": 89
        },
        "outputId": "cbcec086-e0a2-47ba-ed06-7aa1fc80522c"
      },
      "source": [
        "a"
      ],
      "execution_count": 34,
      "outputs": [
        {
          "output_type": "execute_result",
          "data": {
            "text/plain": [
              "array([[0.59546705, 0.57500768, 0.75819577],\n",
              "       [0.43928203, 0.59761369, 0.71631305],\n",
              "       [0.4310064 , 0.96475131, 0.19697307],\n",
              "       [0.36615015, 0.71626492, 0.9235685 ]])"
            ]
          },
          "metadata": {
            "tags": []
          },
          "execution_count": 34
        }
      ]
    },
    {
      "cell_type": "code",
      "metadata": {
        "id": "IpACSVenKpU2",
        "colab_type": "code",
        "colab": {
          "base_uri": "https://localhost:8080/",
          "height": 89
        },
        "outputId": "91f60b86-8a2e-4233-febb-b06296020fe1"
      },
      "source": [
        "b.mul_(2)"
      ],
      "execution_count": 35,
      "outputs": [
        {
          "output_type": "execute_result",
          "data": {
            "text/plain": [
              "tensor([[1.1909, 1.1500, 1.5164],\n",
              "        [0.8786, 1.1952, 1.4326],\n",
              "        [0.8620, 1.9295, 0.3939],\n",
              "        [0.7323, 1.4325, 1.8471]], dtype=torch.float64)"
            ]
          },
          "metadata": {
            "tags": []
          },
          "execution_count": 35
        }
      ]
    },
    {
      "cell_type": "code",
      "metadata": {
        "id": "TbaueQJvKsD3",
        "colab_type": "code",
        "colab": {
          "base_uri": "https://localhost:8080/",
          "height": 89
        },
        "outputId": "22274fe8-0c9c-4cf4-c606-8f7d4a962475"
      },
      "source": [
        "a"
      ],
      "execution_count": 36,
      "outputs": [
        {
          "output_type": "execute_result",
          "data": {
            "text/plain": [
              "array([[1.1909341 , 1.15001536, 1.51639154],\n",
              "       [0.87856405, 1.19522738, 1.43262611],\n",
              "       [0.8620128 , 1.92950262, 0.39394613],\n",
              "       [0.7323003 , 1.43252985, 1.84713701]])"
            ]
          },
          "metadata": {
            "tags": []
          },
          "execution_count": 36
        }
      ]
    },
    {
      "cell_type": "code",
      "metadata": {
        "id": "X7f_tEHOKtHr",
        "colab_type": "code",
        "colab": {}
      },
      "source": [
        ""
      ],
      "execution_count": 0,
      "outputs": []
    }
  ]
}